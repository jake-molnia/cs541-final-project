{
 "cells": [
  {
   "cell_type": "code",
   "execution_count": 27,
   "id": "4a0d8ba8",
   "metadata": {},
   "outputs": [],
   "source": [
    "import torch\n",
    "import torch.nn as nn\n",
    "import torch.optim as optim\n",
    "from torch.utils.data import DataLoader, TensorDataset\n",
    "import numpy as np\n",
    "import matplotlib.pyplot as plt\n",
    "import pandas as pd"
   ]
  },
  {
   "cell_type": "code",
   "execution_count": 28,
   "id": "e0c78d5f",
   "metadata": {},
   "outputs": [
    {
     "name": "stderr",
     "output_type": "stream",
     "text": [
      "C:\\Users\\rayhan\\AppData\\Local\\Temp\\ipykernel_26112\\3976254451.py:18: FutureWarning: Downcasting behavior in `replace` is deprecated and will be removed in a future version. To retain the old behavior, explicitly call `result.infer_objects(copy=False)`. To opt-in to the future behavior, set `pd.set_option('future.no_silent_downcasting', True)`\n",
      "  df['priority'] = df['priority'].replace(mapping)\n"
     ]
    },
    {
     "data": {
      "text/html": [
       "<div>\n",
       "<style scoped>\n",
       "    .dataframe tbody tr th:only-of-type {\n",
       "        vertical-align: middle;\n",
       "    }\n",
       "\n",
       "    .dataframe tbody tr th {\n",
       "        vertical-align: top;\n",
       "    }\n",
       "\n",
       "    .dataframe thead th {\n",
       "        text-align: right;\n",
       "    }\n",
       "</style>\n",
       "<table border=\"1\" class=\"dataframe\">\n",
       "  <thead>\n",
       "    <tr style=\"text-align: right;\">\n",
       "      <th></th>\n",
       "      <th>text</th>\n",
       "      <th>priority</th>\n",
       "    </tr>\n",
       "  </thead>\n",
       "  <tbody>\n",
       "    <tr>\n",
       "      <th>0</th>\n",
       "      <td>Customer Support Inquiry Seeking information o...</td>\n",
       "      <td>0.5</td>\n",
       "    </tr>\n",
       "    <tr>\n",
       "      <th>1</th>\n",
       "      <td>Data Analytics for Investment I am contacting ...</td>\n",
       "      <td>0.5</td>\n",
       "    </tr>\n",
       "    <tr>\n",
       "      <th>2</th>\n",
       "      <td>Security Dear Customer Support, I am reaching ...</td>\n",
       "      <td>0.5</td>\n",
       "    </tr>\n",
       "    <tr>\n",
       "      <th>3</th>\n",
       "      <td>Concerns About Securing Medical Data on 2-in-1...</td>\n",
       "      <td>0.5</td>\n",
       "    </tr>\n",
       "    <tr>\n",
       "      <th>4</th>\n",
       "      <td>Problem with Integration The integration stopp...</td>\n",
       "      <td>1.0</td>\n",
       "    </tr>\n",
       "    <tr>\n",
       "      <th>...</th>\n",
       "      <td>...</td>\n",
       "      <td>...</td>\n",
       "    </tr>\n",
       "    <tr>\n",
       "      <th>11916</th>\n",
       "      <td>Support Website Performance Issues Dear Custom...</td>\n",
       "      <td>0.0</td>\n",
       "    </tr>\n",
       "    <tr>\n",
       "      <th>11917</th>\n",
       "      <td>Investment Modeling Results Are Inaccurate Det...</td>\n",
       "      <td>0.5</td>\n",
       "    </tr>\n",
       "    <tr>\n",
       "      <th>11918</th>\n",
       "      <td>Guidelines for Securing Medical Data in OBS St...</td>\n",
       "      <td>1.0</td>\n",
       "    </tr>\n",
       "    <tr>\n",
       "      <th>11920</th>\n",
       "      <td>Support for Marketing Enhancements Request for...</td>\n",
       "      <td>1.0</td>\n",
       "    </tr>\n",
       "    <tr>\n",
       "      <th>11921</th>\n",
       "      <td>Assistance Needed for IFTTT Docker Integration...</td>\n",
       "      <td>0.0</td>\n",
       "    </tr>\n",
       "  </tbody>\n",
       "</table>\n",
       "<p>10890 rows × 2 columns</p>\n",
       "</div>"
      ],
      "text/plain": [
       "                                                    text  priority\n",
       "0      Customer Support Inquiry Seeking information o...       0.5\n",
       "1      Data Analytics for Investment I am contacting ...       0.5\n",
       "2      Security Dear Customer Support, I am reaching ...       0.5\n",
       "3      Concerns About Securing Medical Data on 2-in-1...       0.5\n",
       "4      Problem with Integration The integration stopp...       1.0\n",
       "...                                                  ...       ...\n",
       "11916  Support Website Performance Issues Dear Custom...       0.0\n",
       "11917  Investment Modeling Results Are Inaccurate Det...       0.5\n",
       "11918  Guidelines for Securing Medical Data in OBS St...       1.0\n",
       "11920  Support for Marketing Enhancements Request for...       1.0\n",
       "11921  Assistance Needed for IFTTT Docker Integration...       0.0\n",
       "\n",
       "[10890 rows x 2 columns]"
      ]
     },
     "execution_count": 28,
     "metadata": {},
     "output_type": "execute_result"
    }
   ],
   "source": [
    "df = pd.read_csv('dataset-tickets-multi-lang-4-20k.csv')\n",
    "\n",
    "for x in df.index:\n",
    "    if df.loc[x, 'language'] != 'en':\n",
    "        df.drop(x, inplace = True)\n",
    "\n",
    "df.reset_index(drop=True, inplace=True)\n",
    "\n",
    "df.dropna(subset=['subject', 'body'], inplace=True)\n",
    "\n",
    "df['text'] = df['subject'] + ' ' + df['body']\n",
    "df['text'] = df['text'].astype(str)\n",
    "\n",
    "df = df[['text', 'priority']]\n",
    "\n",
    "\n",
    "mapping = {'low': 0, 'medium': 0.5, 'high': 1}\n",
    "df['priority'] = df['priority'].replace(mapping)\n",
    "\n",
    "df"
   ]
  },
  {
   "cell_type": "code",
   "execution_count": 29,
   "id": "946f011a",
   "metadata": {},
   "outputs": [
    {
     "data": {
      "text/plain": [
       "priority\n",
       "0.5    4539\n",
       "1.0    4150\n",
       "0.0    2201\n",
       "Name: count, dtype: int64"
      ]
     },
     "execution_count": 29,
     "metadata": {},
     "output_type": "execute_result"
    }
   ],
   "source": [
    "df['priority'].value_counts()"
   ]
  },
  {
   "cell_type": "code",
   "execution_count": 30,
   "id": "cb30e250",
   "metadata": {},
   "outputs": [
    {
     "name": "stdout",
     "output_type": "stream",
     "text": [
      "priority\n",
      "0.0    2201\n",
      "0.5    2201\n",
      "1.0    2201\n",
      "Name: count, dtype: int64\n"
     ]
    },
    {
     "name": "stderr",
     "output_type": "stream",
     "text": [
      "C:\\Users\\rayhan\\AppData\\Local\\Temp\\ipykernel_26112\\1902133639.py:8: DeprecationWarning: DataFrameGroupBy.apply operated on the grouping columns. This behavior is deprecated, and in a future version of pandas the grouping columns will be excluded from the operation. Either pass `include_groups=False` to exclude the groupings or explicitly select the grouping columns after groupby to silence this warning.\n",
      "  df = groups.apply(lambda x: x.sample(min_size)).reset_index(drop=True)\n"
     ]
    }
   ],
   "source": [
    "# Group the data by priority\n",
    "groups = df.groupby('priority')\n",
    "\n",
    "# Find the minimum group size\n",
    "min_size = min(groups.size())\n",
    "\n",
    "# Sample an equal number of rows from each group\n",
    "df = groups.apply(lambda x: x.sample(min_size)).reset_index(drop=True)\n",
    "\n",
    "# Verify the distribution\n",
    "print(df['priority'].value_counts())"
   ]
  },
  {
   "cell_type": "code",
   "execution_count": 31,
   "id": "43c25599",
   "metadata": {},
   "outputs": [],
   "source": [
    "from collections import Counter\n",
    "\n",
    "# Tokenize all the texts\n",
    "tokenized_texts = [text.lower().split() for text in df['text']]\n",
    "\n",
    "# Build vocabulary manually\n",
    "counter = Counter()\n",
    "for tokens in tokenized_texts:\n",
    "    counter.update(tokens)\n",
    "\n",
    "# Assign indices\n",
    "vocab = {\"<pad>\": 0, \"<unk>\": 1}\n",
    "for idx, word in enumerate(counter.keys(), start=2):\n",
    "    vocab[word] = idx\n",
    "\n"
   ]
  },
  {
   "cell_type": "code",
   "execution_count": 32,
   "id": "7f4362d5",
   "metadata": {},
   "outputs": [],
   "source": [
    "def tokenize(text):\n",
    "    return text.lower().split()\n",
    "\n",
    "def encode(text):\n",
    "    tokens = tokenize(text)\n",
    "    return [vocab[token] for token in tokens if token in vocab]\n",
    "\n",
    "def pad_sequence(seq, max_len):\n",
    "    if len(seq) < max_len:\n",
    "        return seq + [vocab[\"<pad>\"]] * (max_len - len(seq))\n",
    "    else:\n",
    "        return seq[:max_len]\n"
   ]
  },
  {
   "cell_type": "code",
   "execution_count": 33,
   "id": "c50b5df6",
   "metadata": {},
   "outputs": [],
   "source": [
    "from torch.utils.data import Dataset\n",
    "\n",
    "class EmailDataset(Dataset):\n",
    "    def __init__(self, texts, labels, max_len):\n",
    "        self.texts = texts\n",
    "        self.labels = labels\n",
    "        self.max_len = max_len\n",
    "\n",
    "    def __len__(self):\n",
    "        return len(self.texts)\n",
    "\n",
    "    def __getitem__(self, idx):\n",
    "        text = self.texts[idx]\n",
    "        label = self.labels[idx]\n",
    "\n",
    "        encoded = encode(text)\n",
    "        padded = pad_sequence(encoded, self.max_len)\n",
    "\n",
    "        return torch.tensor(padded, dtype=torch.long), torch.tensor(label, dtype=torch.float32)\n"
   ]
  },
  {
   "cell_type": "code",
   "execution_count": 34,
   "id": "050f18ae",
   "metadata": {},
   "outputs": [],
   "source": [
    "df['encoded'] = df['text'].apply(encode)"
   ]
  },
  {
   "cell_type": "code",
   "execution_count": 35,
   "id": "2d8b481b",
   "metadata": {},
   "outputs": [
    {
     "data": {
      "text/plain": [
       "0       [2, 3, 4, 5, 6, 7, 8, 9, 10, 11, 12, 13, 5, 14...\n",
       "1       [74, 75, 76, 7, 8, 77, 78, 21, 74, 79, 71, 80,...\n",
       "2       [108, 109, 110, 111, 112, 72, 113, 96, 10, 11,...\n",
       "3       [135, 136, 82, 137, 138, 45, 44, 139, 21, 140,...\n",
       "4       [67, 141, 131, 155, 71, 156, 29, 157, 158, 6, ...\n",
       "                              ...                        \n",
       "6598    [1518, 74, 79, 71, 829, 82, 677, 329, 4299, 72...\n",
       "6599    [304, 141, 338, 2046, 6, 7, 8, 96, 159, 303, 5...\n",
       "6600    [135, 3, 421, 155, 71, 674, 1356, 226, 15, 280...\n",
       "6601    [68, 1159, 194, 185, 976, 137, 192, 240, 7, 8,...\n",
       "6602    [124, 185, 192, 202, 29, 82, 7717, 34, 55, 194...\n",
       "Name: encoded, Length: 6603, dtype: object"
      ]
     },
     "execution_count": 35,
     "metadata": {},
     "output_type": "execute_result"
    }
   ],
   "source": [
    "df['encoded']"
   ]
  },
  {
   "cell_type": "code",
   "execution_count": 36,
   "id": "899b8570",
   "metadata": {},
   "outputs": [],
   "source": [
    "MAX_LEN = 100\n",
    "\n",
    "def pad_sequence(seq):\n",
    "    if len(seq) < MAX_LEN:\n",
    "        return seq + [0] * (MAX_LEN - len(seq))  # pad with <pad> token (index 0)\n",
    "    else:\n",
    "        return seq[:MAX_LEN]  # truncate if too long\n",
    "\n",
    "df['padded'] = df['encoded'].apply(pad_sequence)\n"
   ]
  },
  {
   "cell_type": "code",
   "execution_count": 37,
   "id": "b3a0c045",
   "metadata": {},
   "outputs": [],
   "source": [
    "from sklearn.model_selection import train_test_split\n",
    "import torch\n",
    "\n",
    "X = list(df['padded'])\n",
    "y = list(df['priority'])  # your urgency score between 0 and 1\n",
    "\n",
    "X_train, X_test, y_train, y_test = train_test_split(X, y, test_size=0.2, random_state=42)\n",
    "\n",
    "# Convert to PyTorch tensors\n",
    "X_train = torch.tensor(X_train, dtype=torch.long)\n",
    "y_train = torch.tensor(y_train, dtype=torch.float32)\n",
    "X_test = torch.tensor(X_test, dtype=torch.long)\n",
    "y_test = torch.tensor(y_test, dtype=torch.float32)\n"
   ]
  },
  {
   "cell_type": "code",
   "execution_count": 38,
   "id": "27f0f133",
   "metadata": {},
   "outputs": [],
   "source": [
    "from torch.utils.data import TensorDataset, DataLoader\n",
    "\n",
    "train_dataset = TensorDataset(X_train, y_train)\n",
    "test_dataset = TensorDataset(X_test, y_test)\n",
    "\n",
    "train_loader = DataLoader(train_dataset, batch_size=32, shuffle=True)\n",
    "test_loader = DataLoader(test_dataset, batch_size=32)\n"
   ]
  },
  {
   "cell_type": "code",
   "execution_count": 63,
   "id": "14e33659",
   "metadata": {},
   "outputs": [],
   "source": [
    "import torch.nn as nn\n",
    "import torch.nn.functional as F\n",
    "\n",
    "class TextCNN(nn.Module):\n",
    "    def __init__(self, vocab_size, embed_dim=100, num_classes=1):\n",
    "        super(TextCNN, self).__init__()\n",
    "        self.embedding = nn.Embedding(vocab_size, embed_dim)\n",
    "        \n",
    "        self.conv1 = nn.Conv1d(in_channels=embed_dim, out_channels=100, kernel_size=3)\n",
    "        self.conv2 = nn.Conv1d(in_channels=embed_dim, out_channels=100, kernel_size=4)\n",
    "        self.conv3 = nn.Conv1d(in_channels=embed_dim, out_channels=100, kernel_size=5)\n",
    "        \n",
    "        self.dropout = nn.Dropout(0.5)\n",
    "        self.fc = nn.Linear(3 * 100, num_classes)\n",
    "\n",
    "    def forward(self, x):\n",
    "        x = self.embedding(x)  # (batch_size, seq_len, embed_dim)\n",
    "        x = x.permute(0, 2, 1)  # (batch_size, embed_dim, seq_len)\n",
    "        \n",
    "        x1 = F.relu(self.conv1(x)).max(dim=2)[0]\n",
    "        x2 = F.relu(self.conv2(x)).max(dim=2)[0]\n",
    "        x3 = F.relu(self.conv3(x)).max(dim=2)[0]\n",
    "        \n",
    "        x = torch.cat((x1, x2, x3), dim=1)\n",
    "        x = self.dropout(x)\n",
    "        x = self.fc(x)\n",
    "        # x = torch.sigmoid(x)\n",
    "        return x.squeeze(1)  # because you are predicting a single score\n"
   ]
  },
  {
   "cell_type": "code",
   "execution_count": 64,
   "id": "fd45e334",
   "metadata": {},
   "outputs": [],
   "source": [
    "model = TextCNN(vocab_size=len(vocab))"
   ]
  },
  {
   "cell_type": "code",
   "execution_count": 65,
   "id": "29f54aea",
   "metadata": {},
   "outputs": [
    {
     "name": "stdout",
     "output_type": "stream",
     "text": [
      "Epoch 1, Loss: 0.7144\n",
      "Epoch 2, Loss: 0.2521\n",
      "Epoch 3, Loss: 0.3658\n",
      "Epoch 4, Loss: 0.1696\n",
      "Epoch 5, Loss: 0.0885\n",
      "Epoch 6, Loss: 0.1436\n",
      "Epoch 7, Loss: 0.4651\n",
      "Epoch 8, Loss: 0.0718\n",
      "Epoch 9, Loss: 0.0721\n",
      "Epoch 10, Loss: 0.0494\n"
     ]
    }
   ],
   "source": [
    "import torch.optim as optim\n",
    "\n",
    "criterion = nn.MSELoss()  # Because your output is a real-valued score between 0 and 1\n",
    "optimizer = optim.Adam(model.parameters(), lr=0.001)\n",
    "\n",
    "for epoch in range(10):  # try 10 epochs\n",
    "    model.train()\n",
    "    for inputs, targets in train_loader:\n",
    "        optimizer.zero_grad()\n",
    "        outputs = model(inputs)\n",
    "        loss = criterion(outputs, targets)\n",
    "        loss.backward()\n",
    "        optimizer.step()\n",
    "    print(f\"Epoch {epoch+1}, Loss: {loss.item():.4f}\")\n"
   ]
  },
  {
   "cell_type": "code",
   "execution_count": 66,
   "id": "1df9d1cf",
   "metadata": {},
   "outputs": [
    {
     "name": "stdout",
     "output_type": "stream",
     "text": [
      "Test Loss: 0.1560\n"
     ]
    }
   ],
   "source": [
    "model.eval()\n",
    "with torch.no_grad():\n",
    "    total_loss = 0\n",
    "    for inputs, targets in test_loader:\n",
    "        outputs = model(inputs)\n",
    "        loss = criterion(outputs, targets)\n",
    "        total_loss += loss.item()\n",
    "print(f\"Test Loss: {total_loss / len(test_loader):.4f}\")\n"
   ]
  },
  {
   "cell_type": "code",
   "execution_count": 67,
   "id": "8a62c6e6",
   "metadata": {},
   "outputs": [],
   "source": [
    "model.eval()\n",
    "with torch.no_grad():\n",
    "    predictions = []\n",
    "    for inputs in X:\n",
    "        inputs = torch.tensor(inputs, dtype=torch.long).unsqueeze(0)  # Add batch dimension\n",
    "        outputs = model(inputs)\n",
    "        predictions.append(outputs.item())\n",
    "\n",
    "df['predicted_priority'] = predictions"
   ]
  },
  {
   "cell_type": "code",
   "execution_count": 68,
   "id": "af92f519",
   "metadata": {},
   "outputs": [
    {
     "data": {
      "text/html": [
       "<div>\n",
       "<style scoped>\n",
       "    .dataframe tbody tr th:only-of-type {\n",
       "        vertical-align: middle;\n",
       "    }\n",
       "\n",
       "    .dataframe tbody tr th {\n",
       "        vertical-align: top;\n",
       "    }\n",
       "\n",
       "    .dataframe thead th {\n",
       "        text-align: right;\n",
       "    }\n",
       "</style>\n",
       "<table border=\"1\" class=\"dataframe\">\n",
       "  <thead>\n",
       "    <tr style=\"text-align: right;\">\n",
       "      <th></th>\n",
       "      <th>text</th>\n",
       "      <th>priority</th>\n",
       "      <th>encoded</th>\n",
       "      <th>padded</th>\n",
       "      <th>predicted_priority</th>\n",
       "    </tr>\n",
       "  </thead>\n",
       "  <tbody>\n",
       "    <tr>\n",
       "      <th>0</th>\n",
       "      <td>Notify About Loading Delays Hello Customer Sup...</td>\n",
       "      <td>0.0</td>\n",
       "      <td>[2, 3, 4, 5, 6, 7, 8, 9, 10, 11, 12, 13, 5, 14...</td>\n",
       "      <td>[2, 3, 4, 5, 6, 7, 8, 9, 10, 11, 12, 13, 5, 14...</td>\n",
       "      <td>0.261544</td>\n",
       "    </tr>\n",
       "    <tr>\n",
       "      <th>1</th>\n",
       "      <td>Security Protocol Improvements Customer Suppor...</td>\n",
       "      <td>0.0</td>\n",
       "      <td>[74, 75, 76, 7, 8, 77, 78, 21, 74, 79, 71, 80,...</td>\n",
       "      <td>[74, 75, 76, 7, 8, 77, 78, 21, 74, 79, 71, 80,...</td>\n",
       "      <td>0.386210</td>\n",
       "    </tr>\n",
       "    <tr>\n",
       "      <th>2</th>\n",
       "      <td>Recent Unexplained Subscription Fees Require A...</td>\n",
       "      <td>0.0</td>\n",
       "      <td>[108, 109, 110, 111, 112, 72, 113, 96, 10, 11,...</td>\n",
       "      <td>[108, 109, 110, 111, 112, 72, 113, 96, 10, 11,...</td>\n",
       "      <td>0.320432</td>\n",
       "    </tr>\n",
       "    <tr>\n",
       "      <th>3</th>\n",
       "      <td>Inquiry Regarding Data Analytics Services Is i...</td>\n",
       "      <td>0.0</td>\n",
       "      <td>[135, 136, 82, 137, 138, 45, 44, 139, 21, 140,...</td>\n",
       "      <td>[135, 136, 82, 137, 138, 45, 44, 139, 21, 140,...</td>\n",
       "      <td>0.538088</td>\n",
       "    </tr>\n",
       "    <tr>\n",
       "      <th>4</th>\n",
       "      <td>Information on Billing Options for Netzteil an...</td>\n",
       "      <td>0.0</td>\n",
       "      <td>[67, 141, 131, 155, 71, 156, 29, 157, 158, 6, ...</td>\n",
       "      <td>[67, 141, 131, 155, 71, 156, 29, 157, 158, 6, ...</td>\n",
       "      <td>0.329212</td>\n",
       "    </tr>\n",
       "    <tr>\n",
       "      <th>...</th>\n",
       "      <td>...</td>\n",
       "      <td>...</td>\n",
       "      <td>...</td>\n",
       "      <td>...</td>\n",
       "      <td>...</td>\n",
       "    </tr>\n",
       "    <tr>\n",
       "      <th>6598</th>\n",
       "      <td>Improved Security Protocols for Healthcare Dat...</td>\n",
       "      <td>1.0</td>\n",
       "      <td>[1518, 74, 79, 71, 829, 82, 677, 329, 4299, 72...</td>\n",
       "      <td>[1518, 74, 79, 71, 829, 82, 677, 329, 4299, 72...</td>\n",
       "      <td>0.921404</td>\n",
       "    </tr>\n",
       "    <tr>\n",
       "      <th>6599</th>\n",
       "      <td>Report on Campaign Malfunction Hello Customer ...</td>\n",
       "      <td>1.0</td>\n",
       "      <td>[304, 141, 338, 2046, 6, 7, 8, 96, 159, 303, 5...</td>\n",
       "      <td>[304, 141, 338, 2046, 6, 7, 8, 96, 159, 303, 5...</td>\n",
       "      <td>0.876200</td>\n",
       "    </tr>\n",
       "    <tr>\n",
       "      <th>6600</th>\n",
       "      <td>Inquiry about Training Options for New Employe...</td>\n",
       "      <td>1.0</td>\n",
       "      <td>[135, 3, 421, 155, 71, 674, 1356, 226, 15, 280...</td>\n",
       "      <td>[135, 3, 421, 155, 71, 674, 1356, 226, 15, 280...</td>\n",
       "      <td>1.030176</td>\n",
       "    </tr>\n",
       "    <tr>\n",
       "      <th>6601</th>\n",
       "      <td>Support Request: Issue with Website Analytics ...</td>\n",
       "      <td>1.0</td>\n",
       "      <td>[68, 1159, 194, 185, 976, 137, 192, 240, 7, 8,...</td>\n",
       "      <td>[68, 1159, 194, 185, 976, 137, 192, 240, 7, 8,...</td>\n",
       "      <td>0.466978</td>\n",
       "    </tr>\n",
       "    <tr>\n",
       "      <th>6602</th>\n",
       "      <td>Problem with dashboard refresh and data stream...</td>\n",
       "      <td>1.0</td>\n",
       "      <td>[124, 185, 192, 202, 29, 82, 7717, 34, 55, 194...</td>\n",
       "      <td>[124, 185, 192, 202, 29, 82, 7717, 34, 55, 194...</td>\n",
       "      <td>0.943046</td>\n",
       "    </tr>\n",
       "  </tbody>\n",
       "</table>\n",
       "<p>6603 rows × 5 columns</p>\n",
       "</div>"
      ],
      "text/plain": [
       "                                                   text  priority  \\\n",
       "0     Notify About Loading Delays Hello Customer Sup...       0.0   \n",
       "1     Security Protocol Improvements Customer Suppor...       0.0   \n",
       "2     Recent Unexplained Subscription Fees Require A...       0.0   \n",
       "3     Inquiry Regarding Data Analytics Services Is i...       0.0   \n",
       "4     Information on Billing Options for Netzteil an...       0.0   \n",
       "...                                                 ...       ...   \n",
       "6598  Improved Security Protocols for Healthcare Dat...       1.0   \n",
       "6599  Report on Campaign Malfunction Hello Customer ...       1.0   \n",
       "6600  Inquiry about Training Options for New Employe...       1.0   \n",
       "6601  Support Request: Issue with Website Analytics ...       1.0   \n",
       "6602  Problem with dashboard refresh and data stream...       1.0   \n",
       "\n",
       "                                                encoded  \\\n",
       "0     [2, 3, 4, 5, 6, 7, 8, 9, 10, 11, 12, 13, 5, 14...   \n",
       "1     [74, 75, 76, 7, 8, 77, 78, 21, 74, 79, 71, 80,...   \n",
       "2     [108, 109, 110, 111, 112, 72, 113, 96, 10, 11,...   \n",
       "3     [135, 136, 82, 137, 138, 45, 44, 139, 21, 140,...   \n",
       "4     [67, 141, 131, 155, 71, 156, 29, 157, 158, 6, ...   \n",
       "...                                                 ...   \n",
       "6598  [1518, 74, 79, 71, 829, 82, 677, 329, 4299, 72...   \n",
       "6599  [304, 141, 338, 2046, 6, 7, 8, 96, 159, 303, 5...   \n",
       "6600  [135, 3, 421, 155, 71, 674, 1356, 226, 15, 280...   \n",
       "6601  [68, 1159, 194, 185, 976, 137, 192, 240, 7, 8,...   \n",
       "6602  [124, 185, 192, 202, 29, 82, 7717, 34, 55, 194...   \n",
       "\n",
       "                                                 padded  predicted_priority  \n",
       "0     [2, 3, 4, 5, 6, 7, 8, 9, 10, 11, 12, 13, 5, 14...            0.261544  \n",
       "1     [74, 75, 76, 7, 8, 77, 78, 21, 74, 79, 71, 80,...            0.386210  \n",
       "2     [108, 109, 110, 111, 112, 72, 113, 96, 10, 11,...            0.320432  \n",
       "3     [135, 136, 82, 137, 138, 45, 44, 139, 21, 140,...            0.538088  \n",
       "4     [67, 141, 131, 155, 71, 156, 29, 157, 158, 6, ...            0.329212  \n",
       "...                                                 ...                 ...  \n",
       "6598  [1518, 74, 79, 71, 829, 82, 677, 329, 4299, 72...            0.921404  \n",
       "6599  [304, 141, 338, 2046, 6, 7, 8, 96, 159, 303, 5...            0.876200  \n",
       "6600  [135, 3, 421, 155, 71, 674, 1356, 226, 15, 280...            1.030176  \n",
       "6601  [68, 1159, 194, 185, 976, 137, 192, 240, 7, 8,...            0.466978  \n",
       "6602  [124, 185, 192, 202, 29, 82, 7717, 34, 55, 194...            0.943046  \n",
       "\n",
       "[6603 rows x 5 columns]"
      ]
     },
     "execution_count": 68,
     "metadata": {},
     "output_type": "execute_result"
    }
   ],
   "source": [
    "df"
   ]
  },
  {
   "cell_type": "code",
   "execution_count": 72,
   "id": "cd4a358b",
   "metadata": {},
   "outputs": [
    {
     "data": {
      "image/png": "[encoded data removed]",
      "text/plain": [
       "<Figure size 640x480 with 1 Axes>"
      ]
     },
     "metadata": {},
     "output_type": "display_data"
    },
    {
     "name": "stdout",
     "output_type": "stream",
     "text": [
      "              mean       std\n",
      "priority                    \n",
      "0.0       0.360229  0.136315\n",
      "0.5       0.568318  0.105689\n",
      "1.0       0.791406  0.140494\n"
     ]
    }
   ],
   "source": [
    "# For priority = 0\n",
    "df[df['priority'] == 0]['predicted_priority'].hist(bins=20, edgecolor='black', alpha=0.5, label='Priority = 0')\n",
    "\n",
    "# For priority = 0.5\n",
    "df[df['priority'] == 0.5]['predicted_priority'].hist(bins=20, edgecolor='black', alpha=0.5, label='Priority = 0.5')\n",
    "\n",
    "# For priority = 1\n",
    "df[df['priority'] == 1]['predicted_priority'].hist(bins=20, edgecolor='black', alpha=0.5, label='Priority = 1')\n",
    "\n",
    "plt.xlabel('Predicted Priority')\n",
    "plt.ylabel('Count')\n",
    "plt.title('Distribution of Predicted Priorities')\n",
    "plt.legend()\n",
    "plt.show()\n",
    "\n",
    "mean_std = df.groupby('priority')['predicted_priority'].agg(['mean', 'std'])\n",
    "print(mean_std)"
   ]
  },
  {
   "cell_type": "code",
   "execution_count": 70,
   "id": "877b23d8",
   "metadata": {},
   "outputs": [
    {
     "name": "stdout",
     "output_type": "stream",
     "text": [
      "Mean Squared Error (MSE): 0.1549\n",
      "Mean Absolute Error (MAE): 0.3359\n",
      "Accuracy: 66.54%\n"
     ]
    }
   ],
   "source": [
    "from sklearn.metrics import mean_squared_error, mean_absolute_error\n",
    "\n",
    "model.eval()\n",
    "with torch.no_grad():\n",
    "    predictions = []\n",
    "    actuals = []\n",
    "    for inputs, targets in test_loader:\n",
    "        outputs = model(inputs)\n",
    "        predictions.extend(outputs.tolist())\n",
    "        actuals.extend(targets.tolist())\n",
    "\n",
    "mse = mean_squared_error(actuals, predictions)\n",
    "mae = mean_absolute_error(actuals, predictions)\n",
    "\n",
    "# Calculate the percentage of correct predictions\n",
    "threshold = 0.5\n",
    "correct = sum((pred >= threshold) == (actual >= threshold) for pred, actual in zip(predictions, actuals))\n",
    "accuracy = correct / len(actuals) * 100\n",
    "\n",
    "print(f\"Mean Squared Error (MSE): {mse:.4f}\")\n",
    "print(f\"Mean Absolute Error (MAE): {mae:.4f}\")\n",
    "print(f\"Accuracy: {accuracy:.2f}%\")"
   ]
  }
 ],
 "metadata": {
  "kernelspec": {
   "display_name": ".venv",
   "language": "python",
   "name": "python3"
  },
  "language_info": {
   "codemirror_mode": {
    "name": "ipython",
    "version": 3
   },
   "file_extension": ".py",
   "mimetype": "text/x-python",
   "name": "python",
   "nbconvert_exporter": "python",
   "pygments_lexer": "ipython3",
   "version": "3.11.9"
  }
 },
 "nbformat": 4,
 "nbformat_minor": 5
}
